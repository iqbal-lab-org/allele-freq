{
 "cells": [
  {
   "cell_type": "markdown",
   "metadata": {},
   "source": [
    "# Read data"
   ]
  },
  {
   "cell_type": "code",
   "execution_count": 6,
   "metadata": {
    "scrolled": true
   },
   "outputs": [
    {
     "data": {
      "text/html": [
       "<div>\n",
       "<style scoped>\n",
       "    .dataframe tbody tr th:only-of-type {\n",
       "        vertical-align: middle;\n",
       "    }\n",
       "\n",
       "    .dataframe tbody tr th {\n",
       "        vertical-align: top;\n",
       "    }\n",
       "\n",
       "    .dataframe thead th {\n",
       "        text-align: right;\n",
       "    }\n",
       "</style>\n",
       "<table border=\"1\" class=\"dataframe\">\n",
       "  <thead>\n",
       "    <tr style=\"text-align: right;\">\n",
       "      <th></th>\n",
       "      <th>chrom</th>\n",
       "      <th>pos</th>\n",
       "      <th>freq1</th>\n",
       "      <th>freq2</th>\n",
       "    </tr>\n",
       "  </thead>\n",
       "  <tbody>\n",
       "    <tr>\n",
       "      <th>0</th>\n",
       "      <td>NC_000962.3</td>\n",
       "      <td>11</td>\n",
       "      <td>0.012986</td>\n",
       "      <td>0.0</td>\n",
       "    </tr>\n",
       "    <tr>\n",
       "      <th>1</th>\n",
       "      <td>NC_000962.3</td>\n",
       "      <td>19</td>\n",
       "      <td>0.051130</td>\n",
       "      <td>0.0</td>\n",
       "    </tr>\n",
       "    <tr>\n",
       "      <th>2</th>\n",
       "      <td>NC_000962.3</td>\n",
       "      <td>22</td>\n",
       "      <td>0.061681</td>\n",
       "      <td>0.0</td>\n",
       "    </tr>\n",
       "    <tr>\n",
       "      <th>3</th>\n",
       "      <td>NC_000962.3</td>\n",
       "      <td>29</td>\n",
       "      <td>0.100754</td>\n",
       "      <td>0.0</td>\n",
       "    </tr>\n",
       "    <tr>\n",
       "      <th>4</th>\n",
       "      <td>NC_000962.3</td>\n",
       "      <td>31</td>\n",
       "      <td>0.110377</td>\n",
       "      <td>0.0</td>\n",
       "    </tr>\n",
       "    <tr>\n",
       "      <th>...</th>\n",
       "      <td>...</td>\n",
       "      <td>...</td>\n",
       "      <td>...</td>\n",
       "      <td>...</td>\n",
       "    </tr>\n",
       "    <tr>\n",
       "      <th>906450</th>\n",
       "      <td>NC_000962.3</td>\n",
       "      <td>4411517</td>\n",
       "      <td>0.044870</td>\n",
       "      <td>0.0</td>\n",
       "    </tr>\n",
       "    <tr>\n",
       "      <th>906451</th>\n",
       "      <td>NC_000962.3</td>\n",
       "      <td>4411518</td>\n",
       "      <td>0.039420</td>\n",
       "      <td>0.0</td>\n",
       "    </tr>\n",
       "    <tr>\n",
       "      <th>906452</th>\n",
       "      <td>NC_000962.3</td>\n",
       "      <td>4411519</td>\n",
       "      <td>0.035014</td>\n",
       "      <td>0.0</td>\n",
       "    </tr>\n",
       "    <tr>\n",
       "      <th>906453</th>\n",
       "      <td>NC_000962.3</td>\n",
       "      <td>4411522</td>\n",
       "      <td>0.025275</td>\n",
       "      <td>0.0</td>\n",
       "    </tr>\n",
       "    <tr>\n",
       "      <th>906454</th>\n",
       "      <td>NC_000962.3</td>\n",
       "      <td>4411529</td>\n",
       "      <td>0.001391</td>\n",
       "      <td>0.0</td>\n",
       "    </tr>\n",
       "  </tbody>\n",
       "</table>\n",
       "<p>906455 rows × 4 columns</p>\n",
       "</div>"
      ],
      "text/plain": [
       "              chrom      pos     freq1  freq2\n",
       "0       NC_000962.3       11  0.012986    0.0\n",
       "1       NC_000962.3       19  0.051130    0.0\n",
       "2       NC_000962.3       22  0.061681    0.0\n",
       "3       NC_000962.3       29  0.100754    0.0\n",
       "4       NC_000962.3       31  0.110377    0.0\n",
       "...             ...      ...       ...    ...\n",
       "906450  NC_000962.3  4411517  0.044870    0.0\n",
       "906451  NC_000962.3  4411518  0.039420    0.0\n",
       "906452  NC_000962.3  4411519  0.035014    0.0\n",
       "906453  NC_000962.3  4411522  0.025275    0.0\n",
       "906454  NC_000962.3  4411529  0.001391    0.0\n",
       "\n",
       "[906455 rows x 4 columns]"
      ]
     },
     "execution_count": 6,
     "metadata": {},
     "output_type": "execute_result"
    }
   ],
   "source": [
    "import pandas as pd\n",
    "\n",
    "counts = pd.read_csv('freq.tsv', sep='\\t')\n",
    "counts"
   ]
  },
  {
   "cell_type": "markdown",
   "metadata": {},
   "source": [
    "# Quick look at the histogram of each frequency to help us spot potential thresholds"
   ]
  },
  {
   "cell_type": "code",
   "execution_count": 96,
   "metadata": {},
   "outputs": [
    {
     "data": {
      "text/plain": [
       "array([[<matplotlib.axes._subplots.AxesSubplot object at 0x7f0bf899b7f0>,\n",
       "        <matplotlib.axes._subplots.AxesSubplot object at 0x7f0bf88308d0>]],\n",
       "      dtype=object)"
      ]
     },
     "execution_count": 96,
     "metadata": {},
     "output_type": "execute_result"
    },
    {
     "data": {
      "image/png": "[encoded data removed]",
      "text/plain": [
       "<Figure size 1440x720 with 2 Axes>"
      ]
     },
     "metadata": {
      "needs_background": "light"
     },
     "output_type": "display_data"
    }
   ],
   "source": [
    "counts.hist(column=['freq1', 'freq2'], sharey=True, layout=(1, 2), figsize=(20, 10))"
   ]
  },
  {
   "cell_type": "markdown",
   "metadata": {},
   "source": [
    "So it seems `freq1 > 0.9` or `freq2 < 0.05` would give too many positions, so we avoid those"
   ]
  },
  {
   "cell_type": "markdown",
   "metadata": {},
   "source": [
    "# Zoom in on freq1 <= 0.9 and freq2 >= 0.05"
   ]
  },
  {
   "cell_type": "code",
   "execution_count": 97,
   "metadata": {},
   "outputs": [
    {
     "data": {
      "text/plain": [
       "array([[<matplotlib.axes._subplots.AxesSubplot object at 0x7f0bf87670b8>]],\n",
       "      dtype=object)"
      ]
     },
     "execution_count": 97,
     "metadata": {},
     "output_type": "execute_result"
    },
    {
     "data": {
      "image/png": "[encoded data removed]",
      "text/plain": [
       "<Figure size 432x288 with 1 Axes>"
      ]
     },
     "metadata": {
      "needs_background": "light"
     },
     "output_type": "display_data"
    }
   ],
   "source": [
    "freq1 = counts[counts['freq1'] <= 0.9]\n",
    "freq2 = counts[counts['freq2'] >= 0.05]\n",
    "freq1.hist(column=['freq1'])"
   ]
  },
  {
   "cell_type": "code",
   "execution_count": 98,
   "metadata": {
    "scrolled": true
   },
   "outputs": [
    {
     "data": {
      "text/plain": [
       "array([[<matplotlib.axes._subplots.AxesSubplot object at 0x7f0bf86d27b8>]],\n",
       "      dtype=object)"
      ]
     },
     "execution_count": 98,
     "metadata": {},
     "output_type": "execute_result"
    },
    {
     "data": {
      "image/png": "[encoded data removed]",
      "text/plain": [
       "<Figure size 432x288 with 1 Axes>"
      ]
     },
     "metadata": {
      "needs_background": "light"
     },
     "output_type": "display_data"
    }
   ],
   "source": [
    "freq2.hist(column=['freq2'])"
   ]
  },
  {
   "cell_type": "markdown",
   "metadata": {},
   "source": [
    "## It seems they sum up to around 100k"
   ]
  },
  {
   "cell_type": "code",
   "execution_count": 100,
   "metadata": {},
   "outputs": [
    {
     "data": {
      "text/plain": [
       "127067"
      ]
     },
     "execution_count": 100,
     "metadata": {},
     "output_type": "execute_result"
    }
   ],
   "source": [
    "interesting = counts[\n",
    "    (counts['freq1'] <= 0.9) | (counts['freq2'] >= 0.05)\n",
    "]\n",
    "len(interesting.index)"
   ]
  },
  {
   "cell_type": "markdown",
   "metadata": {},
   "source": [
    "# Randomly take 100k positions"
   ]
  },
  {
   "cell_type": "code",
   "execution_count": 101,
   "metadata": {},
   "outputs": [
    {
     "data": {
      "text/html": [
       "<div>\n",
       "<style scoped>\n",
       "    .dataframe tbody tr th:only-of-type {\n",
       "        vertical-align: middle;\n",
       "    }\n",
       "\n",
       "    .dataframe tbody tr th {\n",
       "        vertical-align: top;\n",
       "    }\n",
       "\n",
       "    .dataframe thead th {\n",
       "        text-align: right;\n",
       "    }\n",
       "</style>\n",
       "<table border=\"1\" class=\"dataframe\">\n",
       "  <thead>\n",
       "    <tr style=\"text-align: right;\">\n",
       "      <th></th>\n",
       "      <th>chrom</th>\n",
       "      <th>pos</th>\n",
       "      <th>freq1</th>\n",
       "      <th>freq2</th>\n",
       "    </tr>\n",
       "  </thead>\n",
       "  <tbody>\n",
       "    <tr>\n",
       "      <th>491844</th>\n",
       "      <td>NC_000962.3</td>\n",
       "      <td>2415726</td>\n",
       "      <td>0.785507</td>\n",
       "      <td>0.000116</td>\n",
       "    </tr>\n",
       "    <tr>\n",
       "      <th>733528</th>\n",
       "      <td>NC_000962.3</td>\n",
       "      <td>3604979</td>\n",
       "      <td>0.886029</td>\n",
       "      <td>0.000116</td>\n",
       "    </tr>\n",
       "    <tr>\n",
       "      <th>824818</th>\n",
       "      <td>NC_000962.3</td>\n",
       "      <td>4046053</td>\n",
       "      <td>0.885333</td>\n",
       "      <td>0.000812</td>\n",
       "    </tr>\n",
       "    <tr>\n",
       "      <th>100521</th>\n",
       "      <td>NC_000962.3</td>\n",
       "      <td>498306</td>\n",
       "      <td>0.825507</td>\n",
       "      <td>0.000116</td>\n",
       "    </tr>\n",
       "    <tr>\n",
       "      <th>185094</th>\n",
       "      <td>NC_000962.3</td>\n",
       "      <td>878585</td>\n",
       "      <td>0.849971</td>\n",
       "      <td>0.000000</td>\n",
       "    </tr>\n",
       "    <tr>\n",
       "      <th>...</th>\n",
       "      <td>...</td>\n",
       "      <td>...</td>\n",
       "      <td>...</td>\n",
       "      <td>...</td>\n",
       "    </tr>\n",
       "    <tr>\n",
       "      <th>409130</th>\n",
       "      <td>NC_000962.3</td>\n",
       "      <td>1959049</td>\n",
       "      <td>0.694377</td>\n",
       "      <td>0.000000</td>\n",
       "    </tr>\n",
       "    <tr>\n",
       "      <th>843536</th>\n",
       "      <td>NC_000962.3</td>\n",
       "      <td>4136764</td>\n",
       "      <td>0.879072</td>\n",
       "      <td>0.000116</td>\n",
       "    </tr>\n",
       "    <tr>\n",
       "      <th>403916</th>\n",
       "      <td>NC_000962.3</td>\n",
       "      <td>1936506</td>\n",
       "      <td>0.886725</td>\n",
       "      <td>0.000116</td>\n",
       "    </tr>\n",
       "    <tr>\n",
       "      <th>868312</th>\n",
       "      <td>NC_000962.3</td>\n",
       "      <td>4244857</td>\n",
       "      <td>0.844870</td>\n",
       "      <td>0.000116</td>\n",
       "    </tr>\n",
       "    <tr>\n",
       "      <th>13136</th>\n",
       "      <td>NC_000962.3</td>\n",
       "      <td>44038</td>\n",
       "      <td>0.898319</td>\n",
       "      <td>0.000000</td>\n",
       "    </tr>\n",
       "  </tbody>\n",
       "</table>\n",
       "<p>100000 rows × 4 columns</p>\n",
       "</div>"
      ],
      "text/plain": [
       "              chrom      pos     freq1     freq2\n",
       "491844  NC_000962.3  2415726  0.785507  0.000116\n",
       "733528  NC_000962.3  3604979  0.886029  0.000116\n",
       "824818  NC_000962.3  4046053  0.885333  0.000812\n",
       "100521  NC_000962.3   498306  0.825507  0.000116\n",
       "185094  NC_000962.3   878585  0.849971  0.000000\n",
       "...             ...      ...       ...       ...\n",
       "409130  NC_000962.3  1959049  0.694377  0.000000\n",
       "843536  NC_000962.3  4136764  0.879072  0.000116\n",
       "403916  NC_000962.3  1936506  0.886725  0.000116\n",
       "868312  NC_000962.3  4244857  0.844870  0.000116\n",
       "13136   NC_000962.3    44038  0.898319  0.000000\n",
       "\n",
       "[100000 rows x 4 columns]"
      ]
     },
     "execution_count": 101,
     "metadata": {},
     "output_type": "execute_result"
    }
   ],
   "source": [
    "interesting.sample(100000)"
   ]
  },
  {
   "cell_type": "code",
   "execution_count": null,
   "metadata": {},
   "outputs": [],
   "source": []
  }
 ],
 "metadata": {
  "kernelspec": {
   "display_name": "Python 3",
   "language": "python",
   "name": "python3"
  },
  "language_info": {
   "codemirror_mode": {
    "name": "ipython",
    "version": 3
   },
   "file_extension": ".py",
   "mimetype": "text/x-python",
   "name": "python",
   "nbconvert_exporter": "python",
   "pygments_lexer": "ipython3",
   "version": "3.6.9"
  }
 },
 "nbformat": 4,
 "nbformat_minor": 4
}
